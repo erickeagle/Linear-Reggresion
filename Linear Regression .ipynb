{
 "cells": [
  {
   "cell_type": "code",
   "execution_count": 1,
   "metadata": {},
   "outputs": [],
   "source": [
    "import matplotlib.pyplot as plt\n",
    "import numpy as np\n",
    "import pandas as pd"
   ]
  },
  {
   "cell_type": "code",
   "execution_count": 3,
   "metadata": {},
   "outputs": [],
   "source": [
    "X=pd.read_csv('K:\\Coding Blocks\\Machine learning\\Training Data\\Linear_X_Train.csv')\n",
    "y=pd.read_csv('K:\\Coding Blocks\\Machine learning\\Training Data\\Linear_Y_Train.csv')"
   ]
  },
  {
   "cell_type": "code",
   "execution_count": 4,
   "metadata": {},
   "outputs": [
    {
     "data": {
      "text/html": [
       "<div>\n",
       "<style scoped>\n",
       "    .dataframe tbody tr th:only-of-type {\n",
       "        vertical-align: middle;\n",
       "    }\n",
       "\n",
       "    .dataframe tbody tr th {\n",
       "        vertical-align: top;\n",
       "    }\n",
       "\n",
       "    .dataframe thead th {\n",
       "        text-align: right;\n",
       "    }\n",
       "</style>\n",
       "<table border=\"1\" class=\"dataframe\">\n",
       "  <thead>\n",
       "    <tr style=\"text-align: right;\">\n",
       "      <th></th>\n",
       "      <th>x</th>\n",
       "    </tr>\n",
       "  </thead>\n",
       "  <tbody>\n",
       "    <tr>\n",
       "      <th>0</th>\n",
       "      <td>-0.289307</td>\n",
       "    </tr>\n",
       "    <tr>\n",
       "      <th>1</th>\n",
       "      <td>-0.588810</td>\n",
       "    </tr>\n",
       "    <tr>\n",
       "      <th>2</th>\n",
       "      <td>1.027507</td>\n",
       "    </tr>\n",
       "    <tr>\n",
       "      <th>3</th>\n",
       "      <td>-0.259013</td>\n",
       "    </tr>\n",
       "    <tr>\n",
       "      <th>4</th>\n",
       "      <td>0.782043</td>\n",
       "    </tr>\n",
       "  </tbody>\n",
       "</table>\n",
       "</div>"
      ],
      "text/plain": [
       "          x\n",
       "0 -0.289307\n",
       "1 -0.588810\n",
       "2  1.027507\n",
       "3 -0.259013\n",
       "4  0.782043"
      ]
     },
     "execution_count": 4,
     "metadata": {},
     "output_type": "execute_result"
    }
   ],
   "source": [
    "X.head()"
   ]
  },
  {
   "cell_type": "code",
   "execution_count": 5,
   "metadata": {},
   "outputs": [
    {
     "data": {
      "text/html": [
       "<div>\n",
       "<style scoped>\n",
       "    .dataframe tbody tr th:only-of-type {\n",
       "        vertical-align: middle;\n",
       "    }\n",
       "\n",
       "    .dataframe tbody tr th {\n",
       "        vertical-align: top;\n",
       "    }\n",
       "\n",
       "    .dataframe thead th {\n",
       "        text-align: right;\n",
       "    }\n",
       "</style>\n",
       "<table border=\"1\" class=\"dataframe\">\n",
       "  <thead>\n",
       "    <tr style=\"text-align: right;\">\n",
       "      <th></th>\n",
       "      <th>y</th>\n",
       "    </tr>\n",
       "  </thead>\n",
       "  <tbody>\n",
       "    <tr>\n",
       "      <th>0</th>\n",
       "      <td>-0.091101</td>\n",
       "    </tr>\n",
       "    <tr>\n",
       "      <th>1</th>\n",
       "      <td>-53.467721</td>\n",
       "    </tr>\n",
       "    <tr>\n",
       "      <th>2</th>\n",
       "      <td>75.457009</td>\n",
       "    </tr>\n",
       "    <tr>\n",
       "      <th>3</th>\n",
       "      <td>-12.025286</td>\n",
       "    </tr>\n",
       "    <tr>\n",
       "      <th>4</th>\n",
       "      <td>57.414187</td>\n",
       "    </tr>\n",
       "  </tbody>\n",
       "</table>\n",
       "</div>"
      ],
      "text/plain": [
       "           y\n",
       "0  -0.091101\n",
       "1 -53.467721\n",
       "2  75.457009\n",
       "3 -12.025286\n",
       "4  57.414187"
      ]
     },
     "execution_count": 5,
     "metadata": {},
     "output_type": "execute_result"
    }
   ],
   "source": [
    "y.head()"
   ]
  },
  {
   "cell_type": "code",
   "execution_count": 6,
   "metadata": {},
   "outputs": [
    {
     "data": {
      "image/png": "[encoded data removed]",
      "text/plain": [
       "<Figure size 576x396 with 1 Axes>"
      ]
     },
     "metadata": {},
     "output_type": "display_data"
    }
   ],
   "source": [
    "plt.style.use('seaborn')\n",
    "plt.scatter(X,y)\n",
    "plt.show()"
   ]
  },
  {
   "cell_type": "code",
   "execution_count": 7,
   "metadata": {},
   "outputs": [
    {
     "data": {
      "text/plain": [
       "(3750, 1)"
      ]
     },
     "execution_count": 7,
     "metadata": {},
     "output_type": "execute_result"
    }
   ],
   "source": [
    "X.shape "
   ]
  },
  {
   "cell_type": "code",
   "execution_count": 8,
   "metadata": {},
   "outputs": [
    {
     "data": {
      "text/plain": [
       "pandas.core.frame.DataFrame"
      ]
     },
     "execution_count": 8,
     "metadata": {},
     "output_type": "execute_result"
    }
   ],
   "source": [
    "type(X)"
   ]
  },
  {
   "cell_type": "code",
   "execution_count": 9,
   "metadata": {},
   "outputs": [
    {
     "data": {
      "text/plain": [
       "pandas.core.frame.DataFrame"
      ]
     },
     "execution_count": 9,
     "metadata": {},
     "output_type": "execute_result"
    }
   ],
   "source": [
    "type(y)"
   ]
  },
  {
   "cell_type": "code",
   "execution_count": 10,
   "metadata": {},
   "outputs": [],
   "source": [
    "##convert X,y into numpy array\n",
    "\n",
    "X=X.values\n",
    "y=y.values\n"
   ]
  },
  {
   "cell_type": "code",
   "execution_count": 11,
   "metadata": {},
   "outputs": [
    {
     "data": {
      "text/plain": [
       "(numpy.ndarray, numpy.ndarray)"
      ]
     },
     "execution_count": 11,
     "metadata": {},
     "output_type": "execute_result"
    }
   ],
   "source": [
    "type(X) ,type(y)"
   ]
  },
  {
   "cell_type": "code",
   "execution_count": 12,
   "metadata": {},
   "outputs": [
    {
     "data": {
      "image/png": "[encoded data removed]",
      "text/plain": [
       "<Figure size 576x396 with 1 Axes>"
      ]
     },
     "metadata": {},
     "output_type": "display_data"
    }
   ],
   "source": [
    "# Normalize\n",
    "\n",
    "u=X.mean()\n",
    "std=X.std()\n",
    "#print(u,std)\n",
    "X=(X-u)/std\n",
    "\n",
    "plt.style.use('seaborn')\n",
    "plt.scatter(X,y,color='red')\n",
    "plt.title(\"Hardwork vs performance Graph\")\n",
    "plt.xlabel('Hardwork')\n",
    "plt.ylabel('Performance')\n",
    "plt.show()\n"
   ]
  },
  {
   "cell_type": "code",
   "execution_count": 13,
   "metadata": {},
   "outputs": [
    {
     "name": "stdout",
     "output_type": "stream",
     "text": [
      "[0. 0.]\n"
     ]
    }
   ],
   "source": [
    "    d= np.zeros((2,))\n",
    "    print(d)"
   ]
  },
  {
   "cell_type": "code",
   "execution_count": 14,
   "metadata": {},
   "outputs": [],
   "source": [
    "\n",
    "# Linear Regression\n"
   ]
  },
  {
   "cell_type": "code",
   "execution_count": 15,
   "metadata": {},
   "outputs": [],
   "source": [
    "def hypothesis(X,theta):\n",
    "    #theta =[theta0,theta1]\n",
    "    y_ = theta[0] + theta[1] * X\n",
    "    return y_\n",
    "\n",
    "def gradient(X,Y, theta):\n",
    "    m=X.shape[0]\n",
    "    grad= np.zeros((2,))\n",
    "    \n",
    "    for i in range(m):\n",
    "        x=X[i]\n",
    "        y_ = hypothesis(x,theta)\n",
    "        y=Y[i]\n",
    "        \n",
    "        \n",
    "        grad[0] += (y_ - y)\n",
    "        grad[1] += (y_ - y)*x\n",
    "    return grad/m\n",
    "\n",
    "\n",
    "def error (X,Y,theta):\n",
    "    m=X.shape[0]\n",
    "    total_error =0.0\n",
    "    for i in range(m):\n",
    "        y_ = hypothesis(X[i],theta)\n",
    "        total_error +=(y_ - y[i])**2\n",
    "    return total_error/m\n",
    "\n",
    "def gradientDescent(X,Y,max_steps=100,learning_rate=0.1):\n",
    "    theta=np.zeros((2,))\n",
    "    error_list=[]\n",
    "    theta_list=[]\n",
    "    for i in range (max_steps):\n",
    "        \n",
    "        #compute grad\n",
    "        \n",
    "        grad = gradient(X,Y,theta)\n",
    "        e=error(X,Y,theta)[0]\n",
    "        \n",
    "        \n",
    "        \n",
    "        #update theta\n",
    "        \n",
    "        theta[0]=theta[0]-learning_rate*grad[0]\n",
    "        theta[1]=theta[1]-learning_rate*grad[1]\n",
    "        theta_list.append((theta[0],theta[1]))\n",
    "        error_list.append(e)\n",
    "    return theta,error_list,theta_list\n"
   ]
  },
  {
   "cell_type": "code",
   "execution_count": 16,
   "metadata": {},
   "outputs": [],
   "source": [
    "theta,error_list,theta_list=gradientDescent(X,y)"
   ]
  },
  {
   "cell_type": "code",
   "execution_count": 17,
   "metadata": {},
   "outputs": [
    {
     "data": {
      "text/plain": [
       "array([ 0.6838508 , 79.90361453])"
      ]
     },
     "execution_count": 17,
     "metadata": {},
     "output_type": "execute_result"
    }
   ],
   "source": [
    "theta"
   ]
  },
  {
   "cell_type": "code",
   "execution_count": 18,
   "metadata": {},
   "outputs": [
    {
     "data": {
      "text/plain": [
       "[6576.35005246196,\n",
       " 5363.125102574931,\n",
       " 4380.412893166487,\n",
       " 3584.4160035456366,\n",
       " 2939.658522952752,\n",
       " 2417.404963672508,\n",
       " 1994.3795806555281,\n",
       " 1651.7290204117544,\n",
       " 1374.1820666143055,\n",
       " 1149.3690340383696,\n",
       " 967.2704776518652,\n",
       " 819.770646978796,\n",
       " 700.2957841336078,\n",
       " 603.5211452290067,\n",
       " 525.1336877162773,\n",
       " 461.6398471309694,\n",
       " 410.20983625687,\n",
       " 368.55152744884856,\n",
       " 334.80829731435097,\n",
       " 307.47628090540843,\n",
       " 285.33734761416457,\n",
       " 267.4048116482566,\n",
       " 252.87945751587242,\n",
       " 241.11392066864,\n",
       " 231.5838358223823,\n",
       " 223.86446709691373,\n",
       " 217.61177842928484,\n",
       " 212.54710060850397,\n",
       " 208.4447115736724,\n",
       " 205.1217764554589,\n",
       " 202.43019900970543,\n",
       " 200.25002127864602,\n",
       " 198.48407731648712,\n",
       " 197.05366270713802,\n",
       " 195.8950268735658,\n",
       " 194.95653184837263,\n",
       " 194.19635087796493,\n",
       " 193.58060429193594,\n",
       " 193.08184955725244,\n",
       " 192.67785822215873,\n",
       " 192.35062524073192,\n",
       " 192.08556652577707,\n",
       " 191.87086896666273,\n",
       " 191.69696394378104,\n",
       " 191.55610087524585,\n",
       " 191.4420017897342,\n",
       " 191.34958153046787,\n",
       " 191.2747211204641,\n",
       " 191.21408418835912,\n",
       " 191.16496827335493,\n",
       " 191.12518438220116,\n",
       " 191.09295943036707,\n",
       " 191.06685721938175,\n",
       " 191.04571442848274,\n",
       " 191.02858876785533,\n",
       " 191.01471698274722,\n",
       " 191.00348083680868,\n",
       " 190.99437955859895,\n",
       " 190.98700752324964,\n",
       " 190.9810361746153,\n",
       " 190.97619938222232,\n",
       " 190.9722815803843,\n",
       " 190.96910816089553,\n",
       " 190.9665376911093,\n",
       " 190.96445561058232,\n",
       " 190.9627691253558,\n",
       " 190.9614030723223,\n",
       " 190.9602965693647,\n",
       " 190.95940030196982,\n",
       " 190.95867432537915,\n",
       " 190.9580862843408,\n",
       " 190.95760997109994,\n",
       " 190.95722415737512,\n",
       " 190.95691164825783,\n",
       " 190.95665851587307,\n",
       " 190.9564534786412,\n",
       " 190.95628739848314,\n",
       " 190.95615287355545,\n",
       " 190.95604390836414,\n",
       " 190.95595564655886,\n",
       " 190.95588415449666,\n",
       " 190.95582624592575,\n",
       " 190.9557793399843,\n",
       " 190.95574134617098,\n",
       " 190.95571057118218,\n",
       " 190.95568564344168,\n",
       " 190.95566545197224,\n",
       " 190.95564909688107,\n",
       " 190.9556358492579,\n",
       " 190.95562511868232,\n",
       " 190.95561642691717,\n",
       " 190.95560938658627,\n",
       " 190.9556036839193,\n",
       " 190.95559906475864,\n",
       " 190.95559532323833,\n",
       " 190.95559229260724,\n",
       " 190.95558983779603,\n",
       " 190.95558784939806,\n",
       " 190.95558623879643,\n",
       " 190.95558493420947]"
      ]
     },
     "execution_count": 18,
     "metadata": {},
     "output_type": "execute_result"
    }
   ],
   "source": [
    "error_list"
   ]
  },
  {
   "cell_type": "code",
   "execution_count": 19,
   "metadata": {},
   "outputs": [
    {
     "data": {
      "text/plain": [
       "[(0.06838689680155924, 7.990573694249979),\n",
       " (0.12993510392296198, 15.182090019074964),\n",
       " (0.18532849033222443, 21.654454711417454),\n",
       " (0.23518253810056078, 27.479582934525695),\n",
       " (0.2800511810920641, 32.72219833532309),\n",
       " (0.3204329597844162, 37.44055219604077),\n",
       " (0.35677656060753327, 41.68707067068668),\n",
       " (0.3894858013483388, 45.508937297867995),\n",
       " (0.41892411801506385, 48.94861726233117),\n",
       " (0.4454186030151161, 52.044329230348026),\n",
       " (0.46926363951516337, 54.83047000156319),\n",
       " (0.490724172365206, 57.337996695656855),\n",
       " (0.5100386519302443, 59.594770720341145),\n",
       " (0.5274216835387786, 61.62586734255701),\n",
       " (0.5430664119864597, 63.45385430255129),\n",
       " (0.5571466675893725, 65.09904256654615),\n",
       " (0.569818897631994, 66.57971200414151),\n",
       " (0.5812239046703536, 67.91231449797735),\n",
       " (0.591488411004877, 69.11165674242959),\n",
       " (0.6007264667059482, 70.19106476243661),\n",
       " (0.6090407168369123, 71.16253198044294),\n",
       " (0.6165235419547797, 72.03685247664862),\n",
       " (0.6232580845608605, 72.82374092323374),\n",
       " (0.6293191729063334, 73.53194052516035),\n",
       " (0.634774152417259, 74.1693201668943),\n",
       " (0.6396836339770917, 74.74296184445484),\n",
       " (0.6441021673809416, 75.25923935425934),\n",
       " (0.6480788474444065, 75.72388911308337),\n",
       " (0.6516578595015246, 76.14207389602501),\n",
       " (0.6548789703529309, 76.51844020067249),\n",
       " (0.6577779701191966, 76.85716987485522),\n",
       " (0.6603870699088358, 77.16202658161967),\n",
       " (0.662735259719511, 77.43639761770768),\n",
       " (0.6648486305491186, 77.68333155018689),\n",
       " (0.6667506642957656, 77.90557208941819),\n",
       " (0.668462494667748, 78.10558857472634),\n",
       " (0.6700031420025319, 78.28560341150369),\n",
       " (0.6713897246038375, 78.4476167646033),\n",
       " (0.6726376489450125, 78.59342878239295),\n",
       " (0.6737607808520701, 78.72465959840363),\n",
       " (0.6747715995684221, 78.84276733281325),\n",
       " (0.6756813364131389, 78.9490642937819),\n",
       " (0.676500099573384, 79.0447315586537),\n",
       " (0.6772369864176042, 79.13083209703831),\n",
       " (0.6779001845774026, 79.20832258158445),\n",
       " (0.6784970629212215, 79.27806401767599),\n",
       " (0.679034253430658, 79.34083131015836),\n",
       " (0.679517724889151, 79.3973218733925),\n",
       " (0.6799528492017948, 79.44816338030323),\n",
       " (0.6803444610831741, 79.49392073652288),\n",
       " (0.6806969117764154, 79.53510235712056),\n",
       " (0.6810141174003328, 79.57216581565848),\n",
       " (0.6812996024618582, 79.60552292834261),\n",
       " (0.6815565390172312, 79.63554432975833),\n",
       " (0.6817877819170668, 79.66256359103248),\n",
       " (0.6819959005269188, 79.68688092617921),\n",
       " (0.682183207275786, 79.70876652781126),\n",
       " (0.6823517833497663, 79.72846356928011),\n",
       " (0.6825035018163484, 79.74619090660208),\n",
       " (0.6826400484362727, 79.76214551019186),\n",
       " (0.6827629403942044, 79.77650465342265),\n",
       " (0.6828735431563429, 79.78942788233036),\n",
       " (0.6829730856422672, 79.8010587883473),\n",
       " (0.6830626738795992, 79.81152660376256),\n",
       " (0.6831433032931981, 79.82094763763628),\n",
       " (0.683215869765437, 79.82942656812263),\n",
       " (0.6832811795904523, 79.83705760556035),\n",
       " (0.6833399584329658, 79.84392553925429),\n",
       " (0.6833928593912281, 79.85010667957883),\n",
       " (0.6834404702536638, 79.85566970587092),\n",
       " (0.6834833200298565, 79.86067642953381),\n",
       " (0.6835218848284297, 79.86518248083041),\n",
       " (0.6835565931471458, 79.86923792699734),\n",
       " (0.68358783063399, 79.87288782854759),\n",
       " (0.6836159443721496, 79.8761727399428),\n",
       " (0.6836412467364934, 79.8791291601985),\n",
       " (0.6836640188644026, 79.88178993842862),\n",
       " (0.6836845137795211, 79.88418463883573),\n",
       " (0.6837029592031277, 79.88633986920213),\n",
       " (0.683719560084374, 79.8882795765319),\n",
       " (0.6837345008774954, 79.89002531312869),\n",
       " (0.6837479475913046, 79.8915964760658),\n",
       " (0.6837600496337329, 79.8930105227092),\n",
       " (0.6837709414719186, 79.89428316468826),\n",
       " (0.6837807441262854, 79.89542854246942),\n",
       " (0.6837895665152157, 79.89645938247246),\n",
       " (0.6837975066652531, 79.8973871384752),\n",
       " (0.6838046528002865, 79.89822211887765),\n",
       " (0.6838110843218166, 79.89897360123987),\n",
       " (0.6838168726911938, 79.89964993536586),\n",
       " (0.6838220822236334, 79.90025863607924),\n",
       " (0.683826770802829, 79.90080646672129),\n",
       " (0.6838309905241051, 79.90129951429914),\n",
       " (0.6838347882732534, 79.90174325711921),\n",
       " (0.6838382062474866, 79.90214262565726),\n",
       " (0.6838412824242968, 79.90250205734151),\n",
       " (0.6838440509834258, 79.90282554585734),\n",
       " (0.6838465426866422, 79.90311668552158),\n",
       " (0.683848785219537, 79.9033787112194),\n",
       " (0.683850803499142, 79.90361453434744)]"
      ]
     },
     "execution_count": 19,
     "metadata": {},
     "output_type": "execute_result"
    }
   ],
   "source": [
    "theta_list"
   ]
  },
  {
   "cell_type": "code",
   "execution_count": 20,
   "metadata": {
    "scrolled": true
   },
   "outputs": [
    {
     "data": {
      "image/png": "[encoded data removed]",
      "text/plain": [
       "<Figure size 576x396 with 1 Axes>"
      ]
     },
     "metadata": {},
     "output_type": "display_data"
    }
   ],
   "source": [
    "plt.plot(error_list)\n",
    "plt.title('Reduction error over time graph')\n",
    "plt.show()"
   ]
  },
  {
   "cell_type": "code",
   "execution_count": 21,
   "metadata": {
    "scrolled": false
   },
   "outputs": [
    {
     "data": {
      "image/png": "[encoded data removed]",
      "text/plain": [
       "<Figure size 576x396 with 1 Axes>"
      ]
     },
     "metadata": {},
     "output_type": "display_data"
    }
   ],
   "source": [
    "y_ = hypothesis(X,theta)\n",
    "\n",
    "# training +prediction\n",
    "\n",
    "plt.scatter(X,y)\n",
    "plt.plot(X,y_,color='orange',label='Prediction')\n",
    "plt.legend()\n",
    "plt.show()"
   ]
  },
  {
   "cell_type": "code",
   "execution_count": 22,
   "metadata": {},
   "outputs": [
    {
     "data": {
      "text/plain": [
       "(1250, 1)"
      ]
     },
     "execution_count": 22,
     "metadata": {},
     "output_type": "execute_result"
    }
   ],
   "source": [
    "x_test=pd.read_csv('K:\\Coding Blocks\\Machine learning\\Test Cases\\Linear_X_Test.csv').values\n",
    "y_test=hypothesis(x_test,theta)\n",
    "y_test.shape"
   ]
  },
  {
   "cell_type": "code",
   "execution_count": 23,
   "metadata": {},
   "outputs": [],
   "source": [
    "df=pd.DataFrame(data=y_test,columns=[\"y\"])\n",
    "df.to_csv('y_prediction.csv',index=False)"
   ]
  },
  {
   "cell_type": "code",
   "execution_count": 24,
   "metadata": {},
   "outputs": [],
   "source": [
    "# r2 score\n",
    "\n",
    "def r2_score(Y,Y_):\n",
    "    \n",
    "    num=np.sum((Y-Y_)**2)\n",
    "    denom=np.sum((Y-Y.mean())**2)\n",
    "    score=(1-num/denom)\n",
    "    return score*100\n"
   ]
  },
  {
   "cell_type": "code",
   "execution_count": 25,
   "metadata": {},
   "outputs": [
    {
     "data": {
      "text/plain": [
       "97.09612226971643"
      ]
     },
     "execution_count": 25,
     "metadata": {},
     "output_type": "execute_result"
    }
   ],
   "source": [
    "r2_score(y,y_)"
   ]
  },
  {
   "cell_type": "code",
   "execution_count": null,
   "metadata": {},
   "outputs": [],
   "source": []
  },
  {
   "cell_type": "code",
   "execution_count": 26,
   "metadata": {},
   "outputs": [],
   "source": [
    "## visualising loss fumction , gradient desent , theta updates"
   ]
  },
  {
   "cell_type": "code",
   "execution_count": 27,
   "metadata": {},
   "outputs": [],
   "source": [
    "from mpl_toolkits.mplot3d import Axes3D"
   ]
  },
  {
   "cell_type": "code",
   "execution_count": 28,
   "metadata": {},
   "outputs": [],
   "source": [
    "np.save(\"ThetaList.npy\",theta_list)"
   ]
  },
  {
   "cell_type": "code",
   "execution_count": null,
   "metadata": {},
   "outputs": [],
   "source": []
  },
  {
   "cell_type": "code",
   "execution_count": null,
   "metadata": {},
   "outputs": [],
   "source": []
  }
 ],
 "metadata": {
  "kernelspec": {
   "display_name": "Python 3",
   "language": "python",
   "name": "python3"
  },
  "language_info": {
   "codemirror_mode": {
    "name": "ipython",
    "version": 3
   },
   "file_extension": ".py",
   "mimetype": "text/x-python",
   "name": "python",
   "nbconvert_exporter": "python",
   "pygments_lexer": "ipython3",
   "version": "3.7.6"
  }
 },
 "nbformat": 4,
 "nbformat_minor": 2
}
